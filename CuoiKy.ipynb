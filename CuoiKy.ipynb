{
 "cells": [
  {
   "cell_type": "code",
   "execution_count": 51,
   "id": "a9c8edd2",
   "metadata": {},
   "outputs": [],
   "source": [
    "#Import các thư viện cần thiết\n",
    "from bs4 import BeautifulSoup as soup\n",
    "from urllib.request import urlopen as uReq\n",
    "import csv\n"
   ]
  },
  {
   "cell_type": "code",
   "execution_count": 52,
   "id": "3ffd56f9",
   "metadata": {},
   "outputs": [],
   "source": [
    "#Lấy url từ web cần scrapping\n",
    "my_url = 'https://philong.com.vn/may-tinh-xach-tay.html?filter=%2C118%2C'"
   ]
  },
  {
   "cell_type": "code",
   "execution_count": 53,
   "id": "3f4e20db",
   "metadata": {},
   "outputs": [],
   "source": [
    "#Đọc và lấy các thẻ từ website\n",
    "uClient = uReq(my_url)\n",
    "page_html = uClient.read()\n",
    "uClient.close() #lấy dữ liệu xong rồi thì đóng lại\n",
    "page_soup = soup(page_html, \"lxml\")"
   ]
  },
  {
   "cell_type": "code",
   "execution_count": 54,
   "id": "5115aee6",
   "metadata": {},
   "outputs": [
    {
     "name": "stdout",
     "output_type": "stream",
     "text": [
      "250-24975-lenovo-ip-3-14alc6-1.png\n",
      "1 \n",
      "Laptop Lenovo IdeaPad Slim 3 14ALC6 (82KT003TVN) (Ryzen 5-5500U, Ram 8GB, SSD 512GB, Màn hình 14inch FHD, Win 10)\n",
      " 14.090.000 đ https://philong.com.vn/laptop-lenovo-ideapad-slim-3-14alc6-82kt003tvn-ryzen-5-5500u-ram-8gb-ssd-512gb-man-hinh-14inch-fhd-win-10.html https://philong.com.vn/media/product/250-24975-lenovo-ip-3-14alc6-1.png\n",
      "250-24465-17z90p-g-ah78a5.png\n",
      "2 \n",
      "Laptop LG Gram 2021 17Z90P-G.AH78A5 (Core i7-1165G7, Ram 16GB, SSD 1TB, Màn hình 17\", Win10)\n",
      " 54.900.000 đ https://philong.com.vn/laptop-lg-gram-2021-17z90p-g.ah78a5.html https://philong.com.vn/media/product/250-24465-17z90p-g-ah78a5.png\n",
      "250-24463-17zd90p-g-ax71a5-cn-15062021.png\n",
      "3 \n",
      "Laptop LG Gram 2021 17ZD90P-G.AX71A5 (Core i7-1165G7, Ram 16GB, 256Gb SSD, Màn hình 17\", Free Dos)\n",
      " 44.900.000 đ https://philong.com.vn/laptop-lg-gram-2021-17zd90p-g.ax71a5.html https://philong.com.vn/media/product/250-24463-17zd90p-g-ax71a5-cn-15062021.png\n",
      "250-24462-16z90p-g-ah75a5.png\n",
      "4 \n",
      "Laptop LG Gram 2021 16Z90P-G.AH75A5 (Core i7-1165G7, Ram 16GB, SSD 512Gb, Màn hình 16\", Win 10)\n",
      " 50.900.000 đ https://philong.com.vn/laptop-lg-gram-2021-16z90p-g.ah75a5.html https://philong.com.vn/media/product/250-24462-16z90p-g-ah75a5.png\n",
      "250-24460-16z90p-g-ah73a5.png\n",
      "5 \n",
      "Laptop LG Gram 2021 16Z90P-G.AH73A5 (Core i7-1165G7, Ram 16GB, SSD 256GB, Màn hình 16\", Win 10)\n",
      " 48.900.000 đ https://philong.com.vn/laptop-lg-gram-2021-16z90p-g.ah73a5.html https://philong.com.vn/media/product/250-24460-16z90p-g-ah73a5.png\n",
      "250-24445-11.jpg\n",
      "6 \n",
      "Laptop Asus ROG FLOW X13 GV301QH - K6054T (Ryzen 7-5800HS, Ram 16GB, SSD 512GB, Màn hình cảm ứng xoay gập 13.4inch FHD, VGA GTX1650 4GB, Win 10)\n",
      " 34.990.000 đ https://philong.com.vn/laptop-asus-rog-flow-x13-gv301qh-k6054t-ryzen-7-5800hs-ram-16gb-ssd-512gb-man-hinh-cam-ung-xoay-gap-13.4inch-fhd-vga-gtx1650-4gb-win-10.html https://philong.com.vn/media/product/250-24445-11.jpg\n",
      "250-24442-6.png\n",
      "7 \n",
      "Laptop HP Envy X360 Convertible 13 -  AY0067AU (171N1PA) (R5-4500U, Ram 8GB, SSD 256GB, Màn hình cảm ứng 13.3inch FHD, Win 10 + Office)\n",
      " 23.190.000 đ https://philong.com.vn/laptop-hp-envy-x360-convertible-13-ay0067au-171n1pa-r5-4500u-ram-8gb-ssd-256gb-man-hinh-cam-ung-13.3inch-fhd-win-10-office.html https://philong.com.vn/media/product/250-24442-6.png\n",
      "250-24262-3.jpg\n",
      "8 \n",
      "Laptop HP Pavilion 15 EQ0072TU (2P1N3PA) (i7-165G7, Ram 8GB, SSD 512GB, Win10)\n",
      " 21.990.000 đ https://philong.com.vn/laptop-hp-pavilion-15-eq0072tu-2p1n3pa-i7-165g7-ram-8gb-ssd-512gb-win10.html https://philong.com.vn/media/product/250-24262-3.jpg\n",
      "250-24222-1.jpg\n",
      "9 \n",
      "LAPTOP ACER SWIFT 3 SF314-42-R0TR (Ryzen 5-4500U, Ram 16GB, SSD 1TB, Màn hình 14\" Full HD, Win 10)\n",
      " 21.990.000 đ https://philong.com.vn/laptop-acer-swift-3-sf314-42-r0tr-ryzen-5-4500u-ram-16gb-ssd-1tb-man-hinh-14quot-full-hd-win-10.html https://philong.com.vn/media/product/250-24222-1.jpg\n",
      "250-24221-11.jpg\n",
      "10 \n",
      "LAPTOP HP PAVILION 14 - DV0009TU (2D7A7PA) (i5-1135G7, Ram 8GB, SSD 512GB, Màn hình 14\" Full HD, Win 10)\n",
      " 17.990.000 đ https://philong.com.vn/laptop-hp-pavilion-14-dv0009tu-2d7a7pa-i5-1135g7-ram-8gb-ssd-512gb-man-hinh-14quot-full-hd-win-10.html https://philong.com.vn/media/product/250-24221-11.jpg\n",
      "250-23691-56580_ux325ea__7_.png\n",
      "11 \n",
      "LAPTOP ASUS ZENBOOK UX325EA EG079T (Core i5-1135G7/Ram 8GB/SSD 256GB/Màn hình 13.F/Win 10/GREY)\n",
      " 21.990.000 đ https://philong.com.vn/laptop-asus-zenbook-ux325ea-eg079t-core-i5-1135g7ram-8gbssd-256gbman-hinh-13.fwin-10grey.html https://philong.com.vn/media/product/250-23691-56580_ux325ea__7_.png\n",
      "250-23530-4.jpg\n",
      "12 \n",
      "LAPTOP HP PROBOOK 455-G7 (1A1B1PA) (Ryzen 7-4700U, Ram 8GB, SSD 512GB, Màn hình 15.6\" Full HD, Win 10)\n",
      " 21.590.000 đ https://philong.com.vn/laptop-hp-probook-455-g7-1a1b1pa-ryzen-7-4700u-ram-8gb-ssd-512gb-man-hinh-15.6quot-full-hd-win-10.html https://philong.com.vn/media/product/250-23530-4.jpg\n",
      "250-22821-11.jpg\n",
      "13 \n",
      "LAPTOP LENOVO IDEAPAD SLIM 3 14ARE05 81W30058VN (R3-4300U, Ram 4GB, Màn hình 14\" FHD, SSD 512GB, Win 10)\n",
      " 10.890.000 đ https://philong.com.vn/laptop-lenovo-ideapad-slim-3-14are05-81w30058vn-r3-4300u-ram-4gb-man-hinh-14quot-fhd-ssd-512gb-win-10.html https://philong.com.vn/media/product/250-22821-11.jpg\n",
      "250-21557-14zd90n-v-ax55a5-cn.png\n",
      "14 \n",
      "Laptop LG Gram 14ZD90N-V.AX55A5 (Core i5-1035G7, Ram 8GB, SSD 512GB, Màn hình 14inch FHD, Free Dos)\n",
      " 26.590.000 đ https://philong.com.vn/laptop-lg-gram-14zd90n-v.ax55a5-core-i5-1035g7-ram-8gb-ssd-512gb-man-hinh-14inch-fhd-free-dos.html https://philong.com.vn/media/product/250-21557-14zd90n-v-ax55a5-cn.png\n",
      "250-21329-14zd90n-v-ax53a5-cn.png\n",
      "15 \n",
      "Laptop LG Gram 2020 14ZD90N-V.AX53A5 (Core i5-1035G7, Ram 8GB, SSD 256GB, Màn hình 14inch FHD, Win 10)\n",
      " 29.000.000 đ https://philong.com.vn/laptop-lg-gram-2020-14zd90n-v.ax53a5-core-i5-1035g7-ram-8gb-ssd-256gb-man-hinh-14inch-fhd-win-10.html https://philong.com.vn/media/product/250-21329-14zd90n-v-ax53a5-cn.png\n",
      "250-21328-14z90n-v-ar52a5-cn.png\n",
      "16 \n",
      "Laptop LG Gram 2020 14Z90N-VAR52A5 (Core i5-1035G7, Ram 8GB, SSD 256GB, Màn hình 14inch FHD, Win 10)\n",
      " 27.999.000 đ https://philong.com.vn/laptop-lg-gram-2020-14z90n-var52a5.html https://philong.com.vn/media/product/250-21328-14z90n-v-ar52a5-cn.png\n",
      "250-21558-15z90n-v-ar55a5-cn.png\n",
      "17 \n",
      "Laptop LG Gram 2020 15Z90N-V.AR55A5 (Core i5-1035G8, Ram 8GB, SSD 512GB, Màn hình 15.6inch FHD, Win 10)\n",
      " 32.990.000 đ https://philong.com.vn/laptop-lg-gram-2020-15z90n-v.ar55a5.html https://philong.com.vn/media/product/250-21558-15z90n-v-ar55a5-cn.png\n",
      "250-21559-15zd90n-v-ax56a5-cn.png\n",
      "18 \n",
      "Laptop LG Gram 2020 15ZD90N-V.AX56A5 (Core i5-1035G7, Ram 8GB, SSD 512GB, Màn hình 15.6inch FHD, Free DOS)\n",
      " 27.590.000 đ https://philong.com.vn/lg-gram-15zd90n-v.ax56a5.html https://philong.com.vn/media/product/250-21559-15zd90n-v-ax56a5-cn.png\n",
      "250-25465-11.png\n",
      "19 \n",
      "Laptop Dell Vostro 5301 (V3I7129W) (i7-1165G7, Ram 8GB, SSD 512GB , VGA MX350 2GB, Màn hình 13.3 inch FHD, Win 10)\n",
      " 26.990.000 đ https://philong.com.vn/laptop-dell-vostro-5301-v3i7129w-i7-1165g7-ram-8gb-ssd-512gb-vga-mx350-2gb-man-hinh-13.3-inch-fhd-win-10.html https://philong.com.vn/media/product/250-25465-11.png\n",
      "250-25463-hp.png\n",
      "20 \n",
      "LAPTOP HP 340S G7 (2G5B7PA) (i3-1005G1, Ram 4GB, SDS 256GB, Màn hình 14 HD, Dos)\n",
      " 12.490.000 đ https://philong.com.vn/laptop-hp-340s-g7-2g5b7pa-i3-1005g1-ram-4gb-sds-256gb-man-hinh-14-hd-dos.html https://philong.com.vn/media/product/250-25463-hp.png\n",
      "250-25446-ex.png\n",
      "21 \n",
      "Laptop Asus ExpertBook B9 B9400CEA-KC0558T (i5-1135G7, Ram 8GB, SSD 512GB, Màn hình 14inch FHD, Win10)\n",
      " 28.990.000 đ https://philong.com.vn/laptop-asus-expertbook-b9-b9400cea-kc0558t-i5-1135g7-ram-8gb-ssd-512gb-man-hinh-14inch-fhd-win10.html https://philong.com.vn/media/product/250-25446-ex.png\n",
      "250-25400-pa1.jpg\n",
      "22 \n",
      "Laptop HP Pavilion 15 EG0504TU (46M00PA) (i7-1165G7, Ram 8GB, SSD 512GB, Màn hình 15.6inch FHD, Win10)\n",
      " 22.990.000 đ https://philong.com.vn/laptop-hp-pavilion-15-eg0504tu-46m00pa-i7-1165g7-ram-8gb-ssd-512gb-man-hinh-15.6inch-fhd-win10.html https://philong.com.vn/media/product/250-25400-pa1.jpg\n",
      "250-25399-pro.png\n",
      "23 \n",
      "Laptop HP ProBook 450 G8 (2Z6L0PA) (i5 1135G7, Ram 8GB, SSD 256GB, Màn hình 15.6inch Full HD, MX450 2GB, Dos)\n",
      " 21.390.000 đ https://philong.com.vn/laptop-hp-probook-450-g8-2z6l0pa-i5-1135g7-ram-8gb-ssd-256gb-man-hinh-15.6inch-full-hd-mx450-2gb-dos.html https://philong.com.vn/media/product/250-25399-pro.png\n",
      "250-25398-\n",
      "24 \n",
      "Laptop HP Pavilion 15-EG056TU (46M04PA) (i5-1135G7, Ram 8GB, SSD 512GB, Màn hình 15.6inch FHD, Win 10 + Office)\n",
      " 19.490.000 đ https://philong.com.vn/laptop-hp-pavilion-15-eg056tu-46m04pa-i5-1135g7-ram-8gb-ssd-512gb-man-hinh-15.6inch-fhd-win-10-office.html https://philong.com.vn/media/product/250-25398-\n"
     ]
    }
   ],
   "source": [
    "products = []  #Khởi tạo mảng để chứa các thuộc tính của sản phẩm\n",
    "#tải ảnh về máy\n",
    "import urllib.request\n",
    "import os\n",
    "from urllib.parse import urlparse\n",
    "\n",
    "product_list = page_soup.findAll('div', {\"class\" : 'col-md-3 col-xl-2 col-sm-6 col-xs-6'}) #Tìm các thẻ div là thẻ cha của mỗi sản phẩn\n",
    "i = 1\n",
    "for product in product_list: #Chạy vòng lặp để lấy thông tin của từng sản phẩm\n",
    "    id_product = str(i)\n",
    "    name = product.find('h4', {\"class\" : 'p-name'}).text #Lấy tên của laptop\n",
    "    price = product.find('span', {\"class\" : 'p-price'}).text #Lấy giá của laptop\n",
    "    detail = \"https://philong.com.vn\"+ product.find('a')['href'] #Lấy đường dẫn tới thông tin chi tiết của laptop\n",
    "    image = \"https://philong.com.vn\"+product.find('img', {\"class\" : 'lazy owl-lazy'})['data-src'] #Lấy đường dẫn hình ảnh của laptop\n",
    "    i += 1\n",
    "    \n",
    "    a = urlparse(image)\n",
    "    print(os.path.basename(a.path))  # Output: 09-09-201315-47-571378756077.jpg\n",
    "    imgURL = \"https://philong.com.vn\"+product.find('img', {\"class\" : 'lazy owl-lazy'})['data-src']\n",
    "    urllib.request.urlretrieve(image, \"D:/DAIHOC/CDCSDL/Project/CuoiKy/images/\" + os.path.basename(a.path)) #Lưu ảnh vào thư mục này\n",
    "    \n",
    "    print(id_product + \" \" + name+\" \" + price+\" \" +detail +\" \"+ image)\n",
    "    products.append(( id_product, name.strip(), price, image.strip(), detail.strip())) #Thêm thông tin lấy được ở trên vào một mảng"
   ]
  },
  {
   "cell_type": "code",
   "execution_count": 55,
   "id": "eba56880",
   "metadata": {},
   "outputs": [
    {
     "name": "stdout",
     "output_type": "stream",
     "text": [
      "Tin Khuyến mãi https://philong.com.vnhttps://philong.com.vn/tin-khuyen-mai.html\n",
      "Máy Tính Xách Tay https://philong.com.vn/may-tinh-xach-tay.html\n",
      "PC, AIO, Server https://philong.com.vn/may-tinh-bo-all-in-one.html\n",
      "Màn Hình Máy Tính https://philong.com.vn/man-hinh-may-tinh-man-hinh-gia-re-da-nang-lcd.html\n",
      "Linh Kiện Máy Tính https://philong.com.vn/linh-kien-may-tinh.html\n",
      "Phím Chuột, Gaming Gear https://philong.com.vn/gaming-gear.html\n",
      "Phụ Kiện Công Nghệ https://philong.com.vn/phu-kien-may-tinh.html\n",
      "Thiết Bị Mạng https://philong.com.vn/thiet-bi-mang-networking.html\n",
      "Loa, Tai nghe, Audio https://philong.com.vn/loa-tai-nghe-webcam-micro.html\n",
      "Máy In, Scan, Vật Tư Máy In https://philong.com.vn/may-in-muc-in-scan-thiet-bi-sieu-thi-dau-doc-ma-vach-may-in-bill-may-in-hoa-don.html\n",
      "Apple Center https://philong.com.vn/apple-center.html\n",
      "Máy chiếu, Camera, TBVP https://philong.com.vn/may-chieu-camera-tbvp.html\n"
     ]
    }
   ],
   "source": [
    "category = []  #Khởi tạo mảng để chứa tên các danh mục cha\n",
    "\n",
    "i = 1\n",
    "cate_list = page_soup.findAll('div', {\"class\" : 'menu-item'}) #Tìm các thẻ div là thẻ cha của mỗi danh mục\n",
    "for cate in cate_list: #Chạy vòng lặp để lấy thông tin của từng danh mục cha\n",
    "    id_cate = str(i)\n",
    "    name = cate.find('a').text #Lấy tên của laptop\n",
    "    detail = \"https://philong.com.vn\"+ cate.find('a')['href'] #Lấy đường dẫn tới danh mục cha đó\n",
    "    i += 1\n",
    "    print(name.strip() + \" \" + detail.strip()) #in thử ra để xem\n",
    "    category.append((id_cate, name.strip(), detail.strip())) #Thêm thông tin lấy được ở trên vào một mảng"
   ]
  },
  {
   "cell_type": "code",
   "execution_count": 56,
   "id": "ee359fe4",
   "metadata": {},
   "outputs": [
    {
     "name": "stdout",
     "output_type": "stream",
     "text": [
      "Học tập - Văn Phòng https://philong.com.vn/may-tinh-xach-tay.html?filter=%2C118%2C\n",
      "Đồ họa - Kỹ thuật https://philong.com.vn/may-tinh-xach-tay.html?filter=%2C119%2C\n",
      "Chơi game khủng https://philong.com.vn/may-tinh-xach-tay.html?filter=%2C120%2C\n",
      "Mỏng nhẹ - Thời trang https://philong.com.vn/may-tinh-xach-tay.html?filter=%2C121%2C\n",
      "Cao cấp - Sang trọng /may-tinh-xach-tay.html?filter=%2C122%2C\n"
     ]
    }
   ],
   "source": [
    "subcategory = []  #Khởi tạo mảng để chứa tên các danh mục con\n",
    "\n",
    "i = 1\n",
    "\n",
    "subcate_list = page_soup.findAll('li', {\"class\" : 'hover-3'}) #Tìm các thẻ div là thẻ cha của mỗi danh mục\n",
    "for subcate in subcate_list: #Chạy vòng lặp để lấy thông tin của từng danh mục con\n",
    "    id_subcate = str(i)\n",
    "    name = subcate.find('a').text #Lấy tên của danh mục con\n",
    "    detail = subcate.find('a')['href'] #Lấy đường dẫn tới trang của danh mục con\n",
    "    print(name.strip() + \" \" + detail.strip()) # thử in dữ liệu ra đây thử\n",
    "    subcategory.append((id_subcate, name.strip(), detail.strip())) #Thêm thông tin lấy được ở trên vào mảng subcategory\n",
    "    i += 1"
   ]
  },
  {
   "cell_type": "code",
   "execution_count": 57,
   "id": "c6b15253",
   "metadata": {},
   "outputs": [],
   "source": [
    "import pandas as pd #Import thư viên pandas\n",
    "product = pd.DataFrame(products, columns=['id_product','name', 'price', 'image', 'detail'])   #Convert mảng vừa lấy được ở trên thành DataFrame\n",
    "category = pd.DataFrame(category, columns=['id_cate', 'name', 'detail'])   #Convert mảng vừa lấy được ở trên thành DataFrame\n",
    "subcategory = pd.DataFrame(subcategory, columns=['id_subcate', 'name', 'detail'])   #Convert mảng vừa lấy được ở trên thành DataFrame\n",
    "\n",
    "with pd.ExcelWriter('laptop.xlsx') as writer:\n",
    "    product.to_excel (writer,sheet_name='Product', index = False, header=True, encoding='utf-8') #Tên sheet là Product\n",
    "    category.to_excel (writer,sheet_name='Category', index = False, header=True, encoding='utf-8') #Tên sheet là Category\n",
    "    subcategory.to_excel (writer,sheet_name='SubCategory', index = False, header=True, encoding='utf-8') #Tên sheet là Subcategory"
   ]
  },
  {
   "cell_type": "code",
   "execution_count": null,
   "id": "721ff4c2",
   "metadata": {},
   "outputs": [],
   "source": []
  }
 ],
 "metadata": {
  "kernelspec": {
   "display_name": "Python 3",
   "language": "python",
   "name": "python3"
  },
  "language_info": {
   "codemirror_mode": {
    "name": "ipython",
    "version": 3
   },
   "file_extension": ".py",
   "mimetype": "text/x-python",
   "name": "python",
   "nbconvert_exporter": "python",
   "pygments_lexer": "ipython3",
   "version": "3.9.5"
  }
 },
 "nbformat": 4,
 "nbformat_minor": 5
}
